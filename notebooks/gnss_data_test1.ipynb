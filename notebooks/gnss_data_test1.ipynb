{
 "cells": [
  {
   "cell_type": "code",
   "execution_count": null,
   "id": "6814172c",
   "metadata": {},
   "outputs": [],
   "source": [
    "import pandas as pd\n",
    "import folium\n",
    "import numpy as np"
   ]
  },
  {
   "cell_type": "code",
   "execution_count": null,
   "id": "3858551d",
   "metadata": {},
   "outputs": [],
   "source": [
    "ori_gnss_pd = pd.read_csv('/workspaces/ublox-gnss-eval-client/temp/notebooks/f9k_sync1.csv')"
   ]
  },
  {
   "cell_type": "code",
   "execution_count": null,
   "id": "52912c4f",
   "metadata": {},
   "outputs": [],
   "source": [
    "ori_gnss_pd.head()"
   ]
  },
  {
   "cell_type": "code",
   "execution_count": null,
   "id": "4889815b",
   "metadata": {},
   "outputs": [],
   "source": [
    "ori_gnss_np = ori_gnss_pd[['Latitude', 'Longitude']].to_numpy()"
   ]
  },
  {
   "cell_type": "code",
   "execution_count": null,
   "id": "9fc74801",
   "metadata": {},
   "outputs": [],
   "source": [
    "# Define meters-to-degree conversion for latitude and longitude\n",
    "lat_per_meter = 1 / 111320.0   # degrees per meter for latitude\n",
    "mean_lat = np.mean(ori_gnss_np[:, 0])\n",
    "lon_per_meter = 1 / (111320 * np.cos(np.deg2rad(mean_lat)))  # degrees per meter for longitude\n",
    "\n",
    "error_m = 0.05  # 5 cm\n",
    "\n",
    "# Random errors in degrees:\n",
    "lat_errors = np.random.uniform(-error_m*lat_per_meter, error_m*lat_per_meter, size=ori_gnss_np.shape[0])\n",
    "lon_errors = np.random.uniform(-error_m*lon_per_meter, error_m*lon_per_meter, size=ori_gnss_np.shape[0])\n",
    "random_errors = np.stack([lat_errors, lon_errors], axis=1)\n",
    "\n",
    "# Add errors to the original trace\n",
    "new_gnss_np = ori_gnss_np + random_errors"
   ]
  },
  {
   "cell_type": "code",
   "execution_count": null,
   "id": "28200942",
   "metadata": {},
   "outputs": [],
   "source": [
    "\n",
    "# Calculate map center (mean of first trace, or combine for both)\n",
    "center = [ori_gnss_np[:, 0].mean(), ori_gnss_np[:, 1].mean()]\n",
    "\n",
    "# Create Folium map\n",
    "m = folium.Map(location=center, zoom_start=17)\n",
    "\n",
    "# Trace 1: Blue\n",
    "coordinates1 = list(map(tuple, ori_gnss_np))\n",
    "folium.PolyLine(coordinates1, color='blue', weight=3, opacity=0.8, tooltip='Trace 1').add_to(m)\n",
    "folium.Marker(coordinates1[0], popup='Start 1', icon=folium.Icon(color='green')).add_to(m)\n",
    "folium.Marker(coordinates1[-1], popup='End 1', icon=folium.Icon(color='red')).add_to(m)\n",
    "\n",
    "# Trace 2: Orange\n",
    "coordinates2 = list(map(tuple, new_gnss_np))\n",
    "folium.PolyLine(coordinates2, color='orange', weight=3, opacity=0.8, tooltip='Trace 2').add_to(m)\n",
    "folium.Marker(coordinates2[0], popup='Start 2', icon=folium.Icon(color='purple')).add_to(m)\n",
    "folium.Marker(coordinates2[-1], popup='End 2', icon=folium.Icon(color='darkred')).add_to(m)\n",
    "\n",
    "m"
   ]
  },
  {
   "cell_type": "code",
   "execution_count": null,
   "id": "daa36b6c",
   "metadata": {},
   "outputs": [],
   "source": [
    "# dtw compare\n",
    "\n",
    "from dtw import dtw\n",
    "from haversine import haversine\n",
    "\n",
    "\n",
    "# Haversine distance function for DTW\n",
    "def gnss_distance(x, y):\n",
    "    \"\"\"Calculate distance between two (lat, lon) points in meters.\"\"\"\n",
    "    return haversine((x[0], x[1]), (y[0], y[1]), unit='m')\n",
    "\n",
    "alignment = dtw(\n",
    "    ori_gnss_np, \n",
    "    new_gnss_np,\n",
    "    dist_method =gnss_distance,\n",
    "    keep_internals=True)\n",
    "\n",
    "dtw_distance = alignment.distance\n",
    "normalized_distance = alignment.normalizedDistance\n",
    "print(f\"DTW distance: {dtw_distance:.2f} m\")\n",
    "print(f\"Normalized DTW distance: {normalized_distance:.2f} m\")"
   ]
  }
 ],
 "metadata": {
  "kernelspec": {
   "display_name": "Python 3",
   "language": "python",
   "name": "python3"
  },
  "language_info": {
   "codemirror_mode": {
    "name": "ipython",
    "version": 3
   },
   "file_extension": ".py",
   "mimetype": "text/x-python",
   "name": "python",
   "nbconvert_exporter": "python",
   "pygments_lexer": "ipython3",
   "version": "3.10.12"
  }
 },
 "nbformat": 4,
 "nbformat_minor": 5
}
