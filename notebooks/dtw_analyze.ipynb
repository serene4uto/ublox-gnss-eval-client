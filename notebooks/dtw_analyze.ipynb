{
 "cells": [
  {
   "cell_type": "code",
   "execution_count": 1,
   "id": "7e0448de",
   "metadata": {},
   "outputs": [],
   "source": [
    "import pandas as pd\n",
    "import numpy as np"
   ]
  },
  {
   "cell_type": "markdown",
   "id": "018005df",
   "metadata": {},
   "source": [
    "# Load Data"
   ]
  },
  {
   "cell_type": "code",
   "execution_count": 2,
   "id": "0556d58e",
   "metadata": {},
   "outputs": [],
   "source": [
    "# gnss_trace_1 = pd.read_csv(\"/workspaces/ublox-gnss-eval-client/temp/gnns_log_2025_06_12/ss2/f9k_gnss_eval_192.168.10.137_50012_20250612_014323.csv\")\n",
    "# gnss_trace_2 = pd.read_csv(\"/workspaces/ublox-gnss-eval-client/temp/gnns_log_2025_06_12/ss2/f9r_gnss_eval_192.168.10.137_50011_20250612_014328.csv\")\n",
    "\n",
    "gnss_trace_1 = pd.read_csv(\"/workspaces/ublox-gnss-eval-client/temp/notebooks/f9k_sync1.csv\")\n",
    "gnss_trace_2 = pd.read_csv(\"/workspaces/ublox-gnss-eval-client/temp/notebooks/f9r_sync1.csv\")"
   ]
  },
  {
   "cell_type": "markdown",
   "id": "d868537b",
   "metadata": {},
   "source": [
    "# Preprocessing"
   ]
  },
  {
   "cell_type": "code",
   "execution_count": 3,
   "id": "8b3f66db",
   "metadata": {},
   "outputs": [],
   "source": [
    "# exclude colums 'HPE(m)','NorthingError(m)', 'EastingError(m)', 'MessageRate(Hz)'\n",
    "# gnss_trace_1 = gnss_trace_1.drop(columns=['HPE(m)', 'NorthingError(m)', 'EastingError(m)', 'MessageRate(Hz)'])\n",
    "# gnss_trace_2 = gnss_trace_2.drop(columns=['HPE(m)', 'NorthingError(m)', 'EastingError(m)', 'MessageRate(Hz)'])"
   ]
  },
  {
   "cell_type": "code",
   "execution_count": 4,
   "id": "7702de92",
   "metadata": {},
   "outputs": [],
   "source": [
    "SELECTED_FIXTYPE = [\n",
    "    'dead-reckoning',\n",
    "    'fixed-rtk',\n",
    "    'synced',\n",
    "    # 'extrapolated'\n",
    "]\n",
    "\n",
    "filtered_trace_1 = gnss_trace_1[gnss_trace_1['FixType'].isin(SELECTED_FIXTYPE)]\n",
    "filtered_trace_2 = gnss_trace_2[gnss_trace_2['FixType'].isin(SELECTED_FIXTYPE)]"
   ]
  },
  {
   "cell_type": "code",
   "execution_count": 5,
   "id": "8d77711b",
   "metadata": {},
   "outputs": [],
   "source": [
    "np_trace_1 = filtered_trace_1[['Latitude', 'Longitude']].to_numpy()\n",
    "np_trace_2 = filtered_trace_2[['Latitude', 'Longitude']].to_numpy()"
   ]
  },
  {
   "cell_type": "markdown",
   "id": "97ee9517",
   "metadata": {},
   "source": [
    "# DTW Analyzation"
   ]
  },
  {
   "cell_type": "markdown",
   "id": "af79fc6a",
   "metadata": {},
   "source": [
    "## python-dtw"
   ]
  },
  {
   "cell_type": "code",
   "execution_count": 6,
   "id": "1b7ee7be",
   "metadata": {},
   "outputs": [
    {
     "name": "stdout",
     "output_type": "stream",
     "text": [
      "Importing the dtw module. When using in academic works please cite:\n",
      "  T. Giorgino. Computing and Visualizing Dynamic Time Warping Alignments in R: The dtw Package.\n",
      "  J. Stat. Soft., doi:10.18637/jss.v031.i07.\n",
      "\n"
     ]
    }
   ],
   "source": [
    "from dtw import dtw\n",
    "from haversine import haversine"
   ]
  },
  {
   "cell_type": "code",
   "execution_count": 7,
   "id": "fade0294",
   "metadata": {},
   "outputs": [
    {
     "name": "stdout",
     "output_type": "stream",
     "text": [
      "DTW distance: 24.77 m\n",
      "Normalized DTW distance: 0.29 m\n"
     ]
    }
   ],
   "source": [
    "# Haversine distance function for DTW\n",
    "def gnss_distance(x, y):\n",
    "    \"\"\"Calculate distance between two (lat, lon) points in meters.\"\"\"\n",
    "    return haversine((x[0], x[1]), (y[0], y[1]), unit='m')\n",
    "\n",
    "alignment = dtw(\n",
    "    np_trace_1, \n",
    "    np_trace_2, \n",
    "    dist_method =gnss_distance,\n",
    "    keep_internals=True)\n",
    "\n",
    "dtw_distance = alignment.distance\n",
    "normalized_distance = alignment.normalizedDistance\n",
    "print(f\"DTW distance: {dtw_distance:.2f} m\")\n",
    "print(f\"Normalized DTW distance: {normalized_distance:.2f} m\")"
   ]
  },
  {
   "cell_type": "markdown",
   "id": "75d5fec2",
   "metadata": {},
   "source": [
    "## fastdtw"
   ]
  },
  {
   "cell_type": "code",
   "execution_count": 8,
   "id": "f3737da9",
   "metadata": {},
   "outputs": [],
   "source": [
    "# import numpy as np\n",
    "# from scipy.spatial.distance import euclidean\n",
    "# from fastdtw import fastdtw"
   ]
  },
  {
   "cell_type": "code",
   "execution_count": 9,
   "id": "3dcd162c",
   "metadata": {},
   "outputs": [],
   "source": [
    "# distance, path = fastdtw(\n",
    "#     np_trace_1, \n",
    "#     np_trace_2,\n",
    "#     dist=gnss_distance\n",
    "# )\n",
    "\n",
    "# print(f\"FastDTW distance: {distance:.2f} m\")"
   ]
  }
 ],
 "metadata": {
  "kernelspec": {
   "display_name": "Python 3",
   "language": "python",
   "name": "python3"
  },
  "language_info": {
   "codemirror_mode": {
    "name": "ipython",
    "version": 3
   },
   "file_extension": ".py",
   "mimetype": "text/x-python",
   "name": "python",
   "nbconvert_exporter": "python",
   "pygments_lexer": "ipython3",
   "version": "3.10.12"
  }
 },
 "nbformat": 4,
 "nbformat_minor": 5
}
