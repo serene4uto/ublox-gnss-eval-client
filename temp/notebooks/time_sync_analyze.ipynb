{
 "cells": [
  {
   "cell_type": "code",
   "execution_count": 1,
   "id": "c7d9128f",
   "metadata": {},
   "outputs": [],
   "source": [
    "import pandas as pd\n",
    "import numpy as np"
   ]
  },
  {
   "cell_type": "markdown",
   "id": "e9b34590",
   "metadata": {},
   "source": [
    "# Load Data"
   ]
  },
  {
   "cell_type": "code",
   "execution_count": 2,
   "id": "01d0e525",
   "metadata": {},
   "outputs": [],
   "source": [
    "gnss_trace_1 = pd.read_csv(\"/workspaces/ublox-gnss-eval-client/temp/gnns_log_2025_06_12/ss2/f9k_gnss_eval_192.168.10.137_50012_20250612_014323.csv\")\n",
    "gnss_trace_2 = pd.read_csv(\"/workspaces/ublox-gnss-eval-client/temp/gnns_log_2025_06_12/ss2/f9r_gnss_eval_192.168.10.137_50011_20250612_014328.csv\")"
   ]
  },
  {
   "cell_type": "markdown",
   "id": "d5ca26e1",
   "metadata": {},
   "source": [
    "# Preprocessing"
   ]
  },
  {
   "cell_type": "code",
   "execution_count": 3,
   "id": "8457b9f3",
   "metadata": {},
   "outputs": [],
   "source": [
    "# exclude colums 'HPE(m)','NorthingError(m)', 'EastingError(m)', 'MessageRate(Hz)'\n",
    "gnss_trace_1 = gnss_trace_1.drop(columns=['HPE(m)', 'NorthingError(m)', 'EastingError(m)', 'MessageRate(Hz)'])\n",
    "gnss_trace_2 = gnss_trace_2.drop(columns=['HPE(m)', 'NorthingError(m)', 'EastingError(m)', 'MessageRate(Hz)'])"
   ]
  },
  {
   "cell_type": "code",
   "execution_count": 4,
   "id": "18361ec2",
   "metadata": {},
   "outputs": [],
   "source": [
    "SELECTED_FIXTYPE = [\n",
    "    'dead-reckoning',\n",
    "    'fixed-rtk',\n",
    "    # 'extrapolated'\n",
    "]\n",
    "\n",
    "filtered_trace_1 = gnss_trace_1[gnss_trace_1['FixType'].isin(SELECTED_FIXTYPE)]\n",
    "filtered_trace_2 = gnss_trace_2[gnss_trace_2['FixType'].isin(SELECTED_FIXTYPE)]"
   ]
  },
  {
   "cell_type": "code",
   "execution_count": 5,
   "id": "e48acdc1",
   "metadata": {},
   "outputs": [],
   "source": [
    "# # test sync time\n",
    "\n",
    "# df_a_proc = filtered_trace_1.copy()\n",
    "# df_b_proc = filtered_trace_2.copy()\n",
    "# time_col='TimestampKST'\n",
    "\n",
    "# for df in [df_a_proc, df_b_proc]:\n",
    "#     df[time_col] = pd.to_datetime(df[time_col], errors='coerce')\n",
    "#     df.set_index(time_col, inplace=True)\n",
    "    \n",
    "#     df.dropna(subset=['Latitude', 'Longitude'], inplace=True)\n",
    "#     df = df[df.index.notna()]\n",
    "    \n",
    "#     df.sort_index(inplace=True)\n",
    "    \n",
    "# if df_a_proc.empty or df_b_proc.empty:\n",
    "#     print(\"Warning: One or both datasets are empty after cleaning.\")\n",
    "    "
   ]
  },
  {
   "cell_type": "code",
   "execution_count": 6,
   "id": "313993ed",
   "metadata": {},
   "outputs": [],
   "source": [
    "# start_time_a = df_a_proc.index.min()\n",
    "# end_time_a = df_a_proc.index.max()\n",
    "\n",
    "# start_time_b = df_b_proc.index.min()\n",
    "# end_time_b = df_b_proc.index.max()\n",
    "# common_start_time = max(start_time_a, start_time_b)\n",
    "# common_end_time = min(end_time_a, end_time_b)\n",
    "# if common_start_time >= common_end_time:\n",
    "#     print(\"Warning: No overlapping time window found.\")\n",
    "\n",
    "# # --- 3. Trim to Common Window ---\n",
    "# df_a_trimmed = df_a_proc.loc[common_start_time:common_end_time]\n",
    "# df_b_trimmed = df_b_proc.loc[common_start_time:common_end_time]\n",
    "\n",
    "# synced_a = df_a_trimmed\n",
    "# # --- 4. Interpolate and Create synced_b ---\n",
    "# combined_index = synced_a.index.union(df_b_trimmed.index)\n",
    "# df_b_reindexed = df_b_trimmed.reindex(combined_index)"
   ]
  },
  {
   "cell_type": "code",
   "execution_count": 7,
   "id": "4359cc59",
   "metadata": {},
   "outputs": [],
   "source": [
    "import pandas as pd\n",
    "import numpy as np\n",
    "\n",
    "def sync_gnss(df_a, df_b, time_col='TimestampKST'):\n",
    "    \"\"\"\n",
    "    Synchronizes two GNSS DataFrames within their common time window and sets\n",
    "    the FixType of BOTH output DataFrames to 'synced'.\n",
    "\n",
    "    Args:\n",
    "        df_a (pd.DataFrame): The reference DataFrame.\n",
    "        df_b (pd.DataFrame): The DataFrame to be realigned and interpolated.\n",
    "        time_col (str): The name of the column containing the timestamps.\n",
    "\n",
    "    Returns:\n",
    "        tuple[pd.DataFrame, pd.DataFrame] or tuple[None, None]:\n",
    "            A tuple containing two synchronized DataFrames (synced_a, synced_b).\n",
    "            Both will have their 'FixType' column set to 'synced'.\n",
    "            Returns (None, None) if there is no overlapping time period.\n",
    "    \"\"\"\n",
    "    # --- 1. Prepare DataFrames ---\n",
    "    df_a_proc = df_a.copy()\n",
    "    df_b_proc = df_b.copy()\n",
    "\n",
    "    for df in [df_a_proc, df_b_proc]:\n",
    "        df[time_col] = pd.to_datetime(df[time_col], errors='coerce')\n",
    "        df.set_index(time_col, inplace=True)\n",
    "        \n",
    "        df.dropna(subset=['Latitude', 'Longitude'], inplace=True)\n",
    "        df = df[df.index.notna()]\n",
    "        \n",
    "        df.sort_index(inplace=True)\n",
    "\n",
    "    if df_a_proc.empty or df_b_proc.empty:\n",
    "        print(\"Warning: One or both datasets are empty after cleaning.\")\n",
    "        return None, None\n",
    "\n",
    "    # --- 2. Determine Common Time Window ---\n",
    "    start_time_a = df_a_proc.index.min()\n",
    "    end_time_a = df_a_proc.index.max()\n",
    "    \n",
    "    start_time_b = df_b_proc.index.min()\n",
    "    end_time_b = df_b_proc.index.max()\n",
    "\n",
    "    common_start_time = max(start_time_a, start_time_b)\n",
    "    common_end_time = min(end_time_a, end_time_b)\n",
    "\n",
    "    if common_start_time >= common_end_time:\n",
    "        print(\"Warning: No overlapping time window found.\")\n",
    "        return None, None\n",
    "\n",
    "    # --- 3. Trim to Common Window ---\n",
    "    df_a_trimmed = df_a_proc.loc[common_start_time:common_end_time]\n",
    "    df_b_trimmed = df_b_proc.loc[common_start_time:common_end_time]\n",
    "    \n",
    "    synced_a = df_a_trimmed\n",
    "\n",
    "    # --- 4. Interpolate and Create synced_b ---\n",
    "    combined_index = synced_a.index.union(df_b_trimmed.index)\n",
    "    df_b_reindexed = df_b_trimmed.reindex(combined_index)\n",
    "\n",
    "    numeric_cols = df_b_reindexed.select_dtypes(include=np.number).columns.tolist()\n",
    "    df_b_reindexed[numeric_cols] = df_b_reindexed[numeric_cols].interpolate(method='time')\n",
    "\n",
    "    synced_b = df_b_reindexed.reindex(synced_a.index)\n",
    "\n",
    "    # --- MODIFICATION: Set FixType for BOTH synchronized DataFrames ---\n",
    "    # This standardizes the output to show both are part of the synced set.\n",
    "    for df in [synced_a, synced_b]:\n",
    "        if 'FixType' in df.columns:\n",
    "            df.loc[:, 'FixType'] = 'synced'\n",
    "\n",
    "    return synced_a, synced_b"
   ]
  },
  {
   "cell_type": "code",
   "execution_count": 8,
   "id": "5c9dfb0a",
   "metadata": {},
   "outputs": [],
   "source": [
    "synced_trace_1, synced_trace_2 = sync_gnss(\n",
    "    filtered_trace_1, \n",
    "    filtered_trace_2,\n",
    ")\n",
    "\n",
    "start_time_compare = synced_trace_1.index.min() + pd.Timedelta(minutes=1)\n",
    "end_time_compare = synced_trace_1.index.min()  + pd.Timedelta(minutes=2)\n",
    "\n",
    "synced_trace_1 = synced_trace_1.loc[start_time_compare:end_time_compare]\n",
    "synced_trace_2 = synced_trace_2.loc[start_time_compare:end_time_compare]"
   ]
  },
  {
   "cell_type": "code",
   "execution_count": 9,
   "id": "51a00852",
   "metadata": {},
   "outputs": [
    {
     "data": {
      "text/plain": [
       "(43, 43)"
      ]
     },
     "execution_count": 9,
     "metadata": {},
     "output_type": "execute_result"
    }
   ],
   "source": [
    "len(synced_trace_1), len(synced_trace_2)"
   ]
  },
  {
   "cell_type": "code",
   "execution_count": 10,
   "id": "9b15198b",
   "metadata": {},
   "outputs": [],
   "source": [
    "# synced_trace_1.to_csv(\"f9k_sync1.csv\", index=True)\n",
    "# synced_trace_2.to_csv(\"f9r_sync1.csv\", index=True)"
   ]
  },
  {
   "cell_type": "code",
   "execution_count": 11,
   "id": "c0b9d9f2",
   "metadata": {},
   "outputs": [],
   "source": [
    "# def haversine_distance(lat1, lon1, lat2, lon2):\n",
    "#     \"\"\"\n",
    "#     Calculate the great-circle distance between two points on the earth (specified in decimal degrees).\n",
    "#     Returns the distance in meters.\n",
    "#     \"\"\"\n",
    "#     R = 6371000  # Radius of Earth in meters\n",
    "    \n",
    "#     lat1_rad, lon1_rad, lat2_rad, lon2_rad = map(np.radians, [lat1, lon1, lat2, lon2])\n",
    "\n",
    "#     dlon = lon2_rad - lon1_rad\n",
    "#     dlat = lat2_rad - lat1_rad\n",
    "\n",
    "#     a = np.sin(dlat / 2)**2 + np.cos(lat1_rad) * np.cos(lat2_rad) * np.sin(dlon / 2)**2\n",
    "#     c = 2 * np.arctan2(np.sqrt(a), np.sqrt(1 - a))\n",
    "#     distance = R * c\n",
    "\n",
    "#     return distance\n",
    "from haversine import haversine\n",
    "\n",
    "def compare_gnss_sequences(synced_a, synced_b, antenna_offset_m=0.0):\n",
    "    \"\"\"\n",
    "    Compares two synchronized GNSS DataFrames using the Haversine distance\n",
    "    and accounts for a known antenna offset.\n",
    "\n",
    "    Args:\n",
    "        synced_a (pd.DataFrame): The first synchronized DataFrame (from device A).\n",
    "        synced_b (pd.DataFrame): The second synchronized DataFrame (from device B).\n",
    "        antenna_offset_m (float): The known physical distance (in meters) between the antennas.\n",
    "\n",
    "    Returns:\n",
    "        tuple[pd.DataFrame, dict]:\n",
    "            - A single DataFrame containing the data for both devices and the\n",
    "              calculated position difference for each timestamp.\n",
    "            - A dictionary containing raw and offset-corrected summary statistics.\n",
    "    \"\"\"\n",
    "    if synced_a is None or synced_b is None:\n",
    "        print(\"Error: Input DataFrames cannot be None.\")\n",
    "        return None, None\n",
    "        \n",
    "    # --- 1. Combine DataFrames for easy comparison ---\n",
    "    df_a_renamed = synced_a.rename(columns={'Latitude': 'Latitude_A', 'Longitude': 'Longitude_A', 'FixType': 'FixType_A'})\n",
    "    df_b_renamed = synced_b.rename(columns={'Latitude': 'Latitude_B', 'Longitude': 'Longitude_B', 'FixType': 'FixType_B'})\n",
    "    \n",
    "    comparison_df = df_a_renamed.join(df_b_renamed)\n",
    "\n",
    "    # --- 2. Calculate the Haversine Distance for each point ---\n",
    "    comparison_df['Position_Difference_m'] = comparison_df.apply(\n",
    "        lambda row: haversine(\n",
    "            (row['Latitude_A'], row['Longitude_A']),\n",
    "            (row['Latitude_B'], row['Longitude_B']),\n",
    "            unit='m'\n",
    "        ),\n",
    "        axis=1\n",
    "    )\n",
    "    # comparison_df['Position_Difference_m'] = haversine_distance(\n",
    "    #     comparison_df['Latitude_A'],\n",
    "    #     comparison_df['Longitude_A'],\n",
    "    #     comparison_df['Latitude_B'],\n",
    "    #     comparison_df['Longitude_B']\n",
    "    # )\n",
    "\n",
    "    # --- 3. Calculate Summary Statistics for Similarity ---\n",
    "    diff_series = comparison_df['Position_Difference_m']\n",
    "    mean_diff = diff_series.mean()\n",
    "    std_diff = diff_series.std()\n",
    "    rms_diff = np.sqrt((diff_series ** 2).mean())\n",
    "\n",
    "    # --- MODIFICATION: Calculate the corrected mean ---\n",
    "    # This shows the average error beyond the expected physical separation.\n",
    "    corrected_mean_diff = mean_diff - antenna_offset_m\n",
    "\n",
    "    # Update stats dictionary to include raw and corrected values\n",
    "    stats = {\n",
    "        'Antenna Offset': f\"{antenna_offset_m:.4f} meters\",\n",
    "        '--- Raw Statistics ---': '',\n",
    "        'Mean Difference': f\"{mean_diff:.4f} meters\",\n",
    "        'Standard Deviation': f\"{std_diff:.4f} meters\",\n",
    "        'RMS Difference': f\"{rms_diff:.4f} meters\",\n",
    "        '--- Offset-Corrected Statistics ---': '',\n",
    "        'Corrected Mean Difference': f\"{corrected_mean_diff:.4f} meters\"\n",
    "    }\n",
    "\n",
    "    return comparison_df, stats"
   ]
  },
  {
   "cell_type": "code",
   "execution_count": 12,
   "id": "898e82d3",
   "metadata": {},
   "outputs": [
    {
     "name": "stdout",
     "output_type": "stream",
     "text": [
      "Comparison DataFrame:\n",
      "                                  Latitude_A  Longitude_A FixType_A  \\\n",
      "TimestampKST                                                          \n",
      "2025-06-12 01:44:30.339262+09:00   36.097459   128.391818    synced   \n",
      "2025-06-12 01:44:31.359283+09:00   36.097455   128.391775    synced   \n",
      "2025-06-12 01:44:32.363536+09:00   36.097452   128.391726    synced   \n",
      "2025-06-12 01:44:33.361497+09:00   36.097450   128.391667    synced   \n",
      "2025-06-12 01:44:34.652162+09:00   36.097448   128.391601    synced   \n",
      "\n",
      "                                  Latitude_B  Longitude_B FixType_B  \\\n",
      "TimestampKST                                                          \n",
      "2025-06-12 01:44:30.339262+09:00   36.097459   128.391825    synced   \n",
      "2025-06-12 01:44:31.359283+09:00   36.097455   128.391781    synced   \n",
      "2025-06-12 01:44:32.363536+09:00   36.097452   128.391733    synced   \n",
      "2025-06-12 01:44:33.361497+09:00   36.097450   128.391672    synced   \n",
      "2025-06-12 01:44:34.652162+09:00   36.097448   128.391589    synced   \n",
      "\n",
      "                                  Position_Difference_m  \n",
      "TimestampKST                                             \n",
      "2025-06-12 01:44:30.339262+09:00               0.588001  \n",
      "2025-06-12 01:44:31.359283+09:00               0.552003  \n",
      "2025-06-12 01:44:32.363536+09:00               0.608094  \n",
      "2025-06-12 01:44:33.361497+09:00               0.432337  \n",
      "2025-06-12 01:44:34.652162+09:00               1.040440  \n",
      "\n",
      "Statistics:\n",
      "Antenna Offset: 0.0000 meters\n",
      "--- Raw Statistics ---: \n",
      "Mean Difference: 0.2948 meters\n",
      "Standard Deviation: 0.1888 meters\n",
      "RMS Difference: 0.3489 meters\n",
      "--- Offset-Corrected Statistics ---: \n",
      "Corrected Mean Difference: 0.2948 meters\n"
     ]
    }
   ],
   "source": [
    "comparison_df, stats = compare_gnss_sequences(\n",
    "    synced_trace_1,\n",
    "    synced_trace_2,\n",
    "    antenna_offset_m=0.00)\n",
    "print(\"Comparison DataFrame:\")\n",
    "print(comparison_df.head())\n",
    "print(\"\\nStatistics:\")\n",
    "for key, value in stats.items():\n",
    "    print(f\"{key}: {value}\")"
   ]
  },
  {
   "cell_type": "code",
   "execution_count": 13,
   "id": "40c80f08",
   "metadata": {},
   "outputs": [
    {
     "data": {
      "text/plain": [
       "<Axes: title={'center': 'Position Difference (m)'}, xlabel='TimestampKST'>"
      ]
     },
     "execution_count": 13,
     "metadata": {},
     "output_type": "execute_result"
    },
    {
     "data": {
      "image/png": "[encoded data removed]",
      "text/plain": [
       "<Figure size 1200x600 with 1 Axes>"
      ]
     },
     "metadata": {},
     "output_type": "display_data"
    }
   ],
   "source": [
    "comparison_df['Position_Difference_m'].plot(title='Position Difference (m)', figsize=(12, 6))"
   ]
  }
 ],
 "metadata": {
  "kernelspec": {
   "display_name": "Python 3",
   "language": "python",
   "name": "python3"
  },
  "language_info": {
   "codemirror_mode": {
    "name": "ipython",
    "version": 3
   },
   "file_extension": ".py",
   "mimetype": "text/x-python",
   "name": "python",
   "nbconvert_exporter": "python",
   "pygments_lexer": "ipython3",
   "version": "3.10.12"
  }
 },
 "nbformat": 4,
 "nbformat_minor": 5
}
